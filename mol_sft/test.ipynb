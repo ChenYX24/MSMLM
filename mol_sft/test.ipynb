{
 "cells": [
  {
   "cell_type": "code",
   "execution_count": 1,
   "id": "178cb777",
   "metadata": {},
   "outputs": [
    {
     "name": "stdout",
     "output_type": "stream",
     "text": [
      "{'input': \"Can you please add more details on how the customer service representative addressed the client's concerns? I want to learn more about the strategies they used to resolve the issue.\", 'output': \"the question is Can you please add more details on how the customer service representative addressed the client's concerns? I want to learn more about the strategies they used to resolve the issue. , the answer is Sure, here are some additional details on how the customer service representative addressed the client's concerns:  1. Active Listening: The customer service representative actively listened to the client's problems and concerns without interrupting him. Active listening is an important part of conflict resolution.  2. Offered Empathy: The customer service representative showed empathy to the client, which helped to de-escalate the situation. She understood the client's frustration and communicated that she would do everything she could to solve the problem.  3. Proposed Solutions: The customer service representative offered the client two potential solutions, which gave him a sense of control and ownership over the situation. She gave him a choice to either replace the item or get a refund, which helped in resolving the issue favorably.  4. Followed Through: The customer service representative took action immediately by processing the refund for the client while still on the line. The client felt heard and cared for, which ensured a positive customer experience.  Using these strategies help the customer service representative to efficiently address the client's concerns and resolve the issue.\", 'metadata': {'task': 'general', 'split': 'train'}}\n",
      "{'input': 'Provided the molecule with the SMILES O=CC12OC1CC2=O below, what are some of its quantum chemical properties?', 'output': 'the question is Provided the molecule with the SMILES O=CC12OC1CC2=O below, what are some of its quantum chemical properties? <mol> the answer is mu: 4.2922, homo: -0.2563, lumo: -0.057, gap: 0.1993', 'metadata': {'task': 'qm9_property_query', 'split': 'sft'}}\n",
      "{'input': 'Please provide me with the LUMO energy value of this molecule. COCC1CN1CC#C', 'output': 'the question is Please provide me with the LUMO energy value of this molecule. COCC1CN1CC#C <mol> the answer is 0.0527', 'metadata': {'task': 'property prediction', 'split': 'train'}}\n",
      "{'input': 'Given the following chemical reaction, what are some potential reagents that could have been employed? CC(C)(C)OC(=O)CC1CCN2C1=CC3=CC(O)=CC=C32.CC(C)OC4=CC=C(CCl)C=C4C#N>>CC(C)OC1=CC=C(COC2=CC=C3C(=C2)C=C4N3CCC4CC(=O)OC(C)(C)C)C=C1C#N', 'output': 'the question is Given the following chemical reaction, what are some potential reagents that could have been employed? CC(C)(C)OC(=O)CC1CCN2C1=CC3=CC(O)=CC=C32<mol>.CC(C)OC4=CC=C(CCl)C=C4C#N<mol>>>CC(C)OC1=CC=C(COC2=CC=C3C(=C2)C=C4N3CCC4CC(=O)OC(C)(C)C)C=C1C#N <mol>\\nthe answer is CN(C)C=O.O.O=C([O-1])[O-1].[Cs+1].[Cs+1]', 'metadata': {'task': 'reagent prediction', 'split': 'train'}}\n",
      "{'input': 'Design a molecule that meets the criteria outlined in the description. The molecule is a member of quinolines.', 'output': 'the question is Design a molecule that meets the criteria outlined in the description. The molecule is a member of quinolines. <mol> the answer is C1CN([C@@H1]2[C@H1]1[C@@H1](NC3=C2C=C(C=C3)C4=CC=CC(=C4)C#N)CO)C(=O)C5=CC=CC=C5F', 'metadata': {'task': 'description-guided molecule design', 'split': 'train'}}\n",
      "{'input': 'What are the possible reactants that could have formed the following product? CC(=O)NC1=NC2=CC=C(OC3=CC=CC(NC(=O)CC4=CC=CC(C(F)(F)F)=C4)=C3)C(C#N)=C2S1', 'output': 'the question is What are the possible reactants that could have formed the following product? CC(=O)NC1=NC2=CC=C(OC3=CC=CC(NC(=O)CC4=CC=CC(C(F)(F)F)=C4)=C3)C(C#N)=C2S1 <mol> the answer is CC(=O)NC1=NC2=CC=C(OC3=CC=CC(N)=C3)C(C#N)=C2S1.O=C(O)CC4=CC=CC(C(F)(F)F)=C4', 'metadata': {'task': 'retrosynthesis', 'split': 'train'}}\n",
      "{'input': 'What can you tell me about this molecule? CC(=O)N1CC2(C1)[C@@H1]([C@@H1](N2CCC(F)(F)F)CO)C3=CC=C(C=C3)C4=CC=CC(=C4)C#N', 'output': 'the question is What can you tell me about this molecule? CC(=O)N1CC2(C1)[C@@H1]([C@@H1](N2CCC(F)(F)F)CO)C3=CC=C(C=C3)C4=CC=CC(=C4)C#N , the answer is The molecule is a member of biphenyls and a nitrile.', 'metadata': {'task': 'molecular description generation', 'split': 'train'}}\n",
      "{'input': 'Given the reactants and reagents listed, what could be a probable product of their reaction? COC1=CC(Cl)=C(C(=O)CBr)C(Cl)=C1.NC(N)=S.CCO', 'output': 'the question is Given the reactants and reagents listed, what could be a probable product of their reaction? COC1=CC(Cl)=C(C(=O)CBr)C(Cl)=C1<mol>.NC(N)=S<mol>.CCO<mol>,the answer is COC1=CC(Cl)=C(C2=CSC(N)=N2)C(Cl)=C1', 'metadata': {'task': 'forward reaction prediction', 'split': 'train'}}\n"
     ]
    }
   ],
   "source": [
    "import json\n",
    "with open('/data1/lvchangwei/LLM/SFT_data/SFT_DATA.json', 'r') as f:\n",
    "    data = json.load(f)\n",
    "\n",
    "# 打印数据  \n",
    "keys = set()\n",
    "for i in range(len(data)):\n",
    "    if data[i]['metadata'][\"task\"] not in keys:\n",
    "        print(data[i])\n",
    "        keys.add(data[i]['metadata'][\"task\"])\n",
    "    "
   ]
  }
 ],
 "metadata": {
  "kernelspec": {
   "display_name": "drugflow",
   "language": "python",
   "name": "python3"
  },
  "language_info": {
   "codemirror_mode": {
    "name": "ipython",
    "version": 3
   },
   "file_extension": ".py",
   "mimetype": "text/x-python",
   "name": "python",
   "nbconvert_exporter": "python",
   "pygments_lexer": "ipython3",
   "version": "3.11.8"
  }
 },
 "nbformat": 4,
 "nbformat_minor": 5
}
